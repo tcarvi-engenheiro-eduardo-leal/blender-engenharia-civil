{
 "cells": [
  {
   "cell_type": "markdown",
   "id": "be8c8d36-3e86-44d2-843a-2885c86b7d6b",
   "metadata": {},
   "source": [
    "# Projeto na-porteira\n",
    "## Etapa Terraplenagem"
   ]
  },
  {
   "cell_type": "markdown",
   "id": "d3d2266b-e2a0-4325-975c-597c5a580ae7",
   "metadata": {},
   "source": [
    "### Memorial de Cálculo"
   ]
  },
  {
   "cell_type": "code",
   "execution_count": 1,
   "id": "1e5c8d68-7b0a-45a6-abd2-d7fd25624303",
   "metadata": {},
   "outputs": [
    {
     "name": "stdout",
     "output_type": "stream",
     "text": [
      "Etapa 1\n"
     ]
    }
   ],
   "source": [
    "# Etapa 1\n",
    "print(\"Etapa 1\")"
   ]
  }
 ],
 "metadata": {
  "kernelspec": {
   "display_name": "Python 3 (ipykernel)",
   "language": "python",
   "name": "python3"
  },
  "language_info": {
   "codemirror_mode": {
    "name": "ipython",
    "version": 3
   },
   "file_extension": ".py",
   "mimetype": "text/x-python",
   "name": "python",
   "nbconvert_exporter": "python",
   "pygments_lexer": "ipython3",
   "version": "3.12.4"
  }
 },
 "nbformat": 4,
 "nbformat_minor": 5
}
